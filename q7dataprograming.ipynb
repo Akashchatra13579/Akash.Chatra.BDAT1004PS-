{
 "cells": [
  {
   "cell_type": "code",
   "execution_count": 1,
   "id": "b8e9577f",
   "metadata": {},
   "outputs": [],
   "source": [
    "def bloodcount(bloodtype):\n",
    "    d = open(bloodtype,'r')\n",
    "    word = d.readline()\n",
    "    lst = []\n",
    "    blood_types = ['AB-','AB+','A-','B','B+','B-','O','O+','O-','A+']\n",
    "    lst.append(word.split(\" \"))\n",
    "    for blood_type in blood_types:\n",
    "        print(\"there are {} patients of {} bloodtype.\".format(lst[0].count(blood_type),blood_type))"
   ]
  },
  {
   "cell_type": "code",
   "execution_count": 3,
   "id": "fac9c3cd",
   "metadata": {},
   "outputs": [
    {
     "name": "stdout",
     "output_type": "stream",
     "text": [
      "there are 15 patients of A bloodtype.\n",
      "there are 0 patients of A+ bloodtype.\n",
      "there are 0 patients of A- bloodtype.\n",
      "there are 1 patients of B bloodtype.\n",
      "there are 0 patients of B+ bloodtype.\n",
      "there are 0 patients of B- bloodtype.\n",
      "there are 15 patients of O bloodtype.\n",
      "there are 0 patients of O+ bloodtype.\n",
      "there are 0 patients of O- bloodtype.\n"
     ]
    }
   ],
   "source": [
    "bloodcount('bloodtype.txt')"
   ]
  },
  {
   "cell_type": "code",
   "execution_count": null,
   "id": "e8f0dabe",
   "metadata": {},
   "outputs": [],
   "source": []
  }
 ],
 "metadata": {
  "kernelspec": {
   "display_name": "Python 3 (ipykernel)",
   "language": "python",
   "name": "python3"
  },
  "language_info": {
   "codemirror_mode": {
    "name": "ipython",
    "version": 3
   },
   "file_extension": ".py",
   "mimetype": "text/x-python",
   "name": "python",
   "nbconvert_exporter": "python",
   "pygments_lexer": "ipython3",
   "version": "3.9.12"
  }
 },
 "nbformat": 4,
 "nbformat_minor": 5
}
