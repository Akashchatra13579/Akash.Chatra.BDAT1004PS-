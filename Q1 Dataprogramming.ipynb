{
 "cells": [
  {
   "cell_type": "markdown",
   "id": "b331a4ea",
   "metadata": {},
   "source": [
    "# Question Number 1 \n",
    "5 -> integer \n",
    "5.0 -> Float (double)\n",
    "5 > 1 -> boolean\n",
    "'5' -> string\n",
    "5 * 2 -> integer\n",
    "'5' * 2 ->string\n",
    "'5' + '2' -> string\n",
    "5/2 -> float\n",
    "5 % 2 -> integer\n",
    "{5, 2, 1} -> integer array \n",
    "5 == 3 -> boolean\n",
    "math.pi -> float (3.141592653589793)"
   ]
  },
  {
   "cell_type": "code",
   "execution_count": null,
   "id": "ad7546ff",
   "metadata": {},
   "outputs": [],
   "source": []
  }
 ],
 "metadata": {
  "kernelspec": {
   "display_name": "Python 3 (ipykernel)",
   "language": "python",
   "name": "python3"
  },
  "language_info": {
   "codemirror_mode": {
    "name": "ipython",
    "version": 3
   },
   "file_extension": ".py",
   "mimetype": "text/x-python",
   "name": "python",
   "nbconvert_exporter": "python",
   "pygments_lexer": "ipython3",
   "version": "3.9.12"
  }
 },
 "nbformat": 4,
 "nbformat_minor": 5
}
